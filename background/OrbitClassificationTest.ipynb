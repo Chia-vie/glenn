{
 "cells": [
  {
   "cell_type": "markdown",
   "metadata": {},
   "source": [
    "# Classify my orbits pls"
   ]
  },
  {
   "cell_type": "code",
   "execution_count": 1,
   "metadata": {},
   "outputs": [],
   "source": [
    "import numpy as np\n",
    "import matplotlib.pyplot as plt"
   ]
  },
  {
   "cell_type": "code",
   "execution_count": 2,
   "metadata": {},
   "outputs": [
    {
     "name": "stdout",
     "output_type": "stream",
     "text": [
      "0.15\n"
     ]
    }
   ],
   "source": [
    "threshold = np.linspace(-1, 1, 12)[6]\n",
    "threshold = 0.15\n",
    "print(threshold)"
   ]
  },
  {
   "cell_type": "code",
   "execution_count": 3,
   "metadata": {},
   "outputs": [],
   "source": [
    "samplesize = 10000"
   ]
  },
  {
   "cell_type": "code",
   "execution_count": 4,
   "metadata": {},
   "outputs": [],
   "source": [
    "Llist = np.random.sample((samplesize, 3)) *2 - 1"
   ]
  },
  {
   "cell_type": "code",
   "execution_count": 5,
   "metadata": {},
   "outputs": [],
   "source": [
    "def L_class(listofL, size):\n",
    "    types = np.zeros(size)\n",
    "\n",
    "    for i in range(size):\n",
    "        Lx = listofL[i, 0]\n",
    "        Ly = listofL[i, 1]\n",
    "        Lz = listofL[i, 2]\n",
    "        # boxes\n",
    "        if np.abs(Lx) <= threshold and np.abs(Ly) <= threshold and np.abs(Lz) <= threshold:\n",
    "            types[i] = 3\n",
    "        # true tube orbits \n",
    "        elif np.abs(Lx) > threshold and np.abs(Ly) <= threshold and np.abs(Lz) <= threshold:\n",
    "            types[i] = 0\n",
    "        elif np.abs(Lx) <= threshold and np.abs(Ly) > threshold and np.abs(Lz) <= threshold:\n",
    "            types[i] = 1\n",
    "        elif np.abs(Lx) <= threshold and np.abs(Ly) <= threshold and np.abs(Lz) > threshold:\n",
    "            types[i] = 2\n",
    "        # tube-ish orbits, i.e. with one component of L larger than other 2\n",
    "        elif np.abs(Lx) > np.abs(Ly) and np.abs(Lx) > np.abs(Lz):\n",
    "            types[i] = 0\n",
    "        elif np.abs(Ly) > np.abs(Lx) and np.abs(Ly) > np.abs(Lz):\n",
    "            types[i] = 1\n",
    "        elif np.abs(Lz) > np.abs(Lx) and np.abs(Lz) <= np.abs(Ly):\n",
    "            types[i] = 2\n",
    "        # unclassified orbits\n",
    "        else:\n",
    "            types[i] = 4\n",
    "        \n",
    "    return types"
   ]
  },
  {
   "cell_type": "code",
   "execution_count": 6,
   "metadata": {},
   "outputs": [],
   "source": [
    "types = L_class(Llist, samplesize)"
   ]
  },
  {
   "cell_type": "code",
   "execution_count": 7,
   "metadata": {},
   "outputs": [],
   "source": [
    "training_input = [np.reshape(x, (3,1)) for x in Llist]"
   ]
  },
  {
   "cell_type": "code",
   "execution_count": 8,
   "metadata": {},
   "outputs": [],
   "source": [
    "def vectorised_results(j):\n",
    "    e = np.zeros((5,1))\n",
    "    e[j] = 1.0\n",
    "    return e"
   ]
  },
  {
   "cell_type": "code",
   "execution_count": 9,
   "metadata": {},
   "outputs": [],
   "source": [
    "training_results = [vectorised_results(int(y)) for y in types]"
   ]
  },
  {
   "cell_type": "code",
   "execution_count": 20,
   "metadata": {},
   "outputs": [],
   "source": [
    "training_data = zip(training_input, training_results)"
   ]
  },
  {
   "cell_type": "code",
   "execution_count": 21,
   "metadata": {},
   "outputs": [],
   "source": [
    "samplesize_test = 500\n",
    "\n",
    "Ltestlist = np.random.sample((samplesize_test, 3)) *2 - 1\n",
    "types_test = L_class(Ltestlist, samplesize_test)\n",
    "\n",
    "test_input = [np.reshape(x, (3,1)) for x in Ltestlist]\n",
    "test_data = zip(test_input, types_test)"
   ]
  },
  {
   "cell_type": "code",
   "execution_count": 22,
   "metadata": {},
   "outputs": [],
   "source": [
    "samplesize_valid = 500\n",
    "\n",
    "Lvalidlist = np.random.sample((samplesize_valid, 3)) *2 - 1\n",
    "types_valid = L_class(Lvalidlist, samplesize_valid)\n",
    "\n",
    "valid_input = [np.reshape(x, (3,1)) for x in Lvalidlist]\n",
    "valid_data = zip(valid_input, types_valid)"
   ]
  },
  {
   "cell_type": "markdown",
   "metadata": {},
   "source": [
    "test with quadratic cost function "
   ]
  },
  {
   "cell_type": "code",
   "execution_count": 23,
   "metadata": {},
   "outputs": [],
   "source": [
    "import network"
   ]
  },
  {
   "cell_type": "code",
   "execution_count": 24,
   "metadata": {},
   "outputs": [],
   "source": [
    "net = network.Network([3, 40, 5])"
   ]
  },
  {
   "cell_type": "code",
   "execution_count": 25,
   "metadata": {},
   "outputs": [
    {
     "data": {
      "text/plain": [
       "[array([[-0.02306588, -0.50730458,  0.28273846],\n",
       "        [-1.03519078, -1.2704943 , -0.14870163],\n",
       "        [ 0.87123146,  0.73356273,  0.09776561],\n",
       "        [ 0.45678967, -1.56158937, -0.2514822 ],\n",
       "        [-0.30127704, -0.20653583,  0.34669222],\n",
       "        [-1.63944615, -0.88195943, -1.35077522],\n",
       "        [ 0.05918691, -0.75500859,  0.65508298],\n",
       "        [-0.963599  ,  1.63504233, -0.92961209],\n",
       "        [-1.24729899, -0.754742  ,  0.46467328],\n",
       "        [-2.14804132, -0.40742801,  0.17773401],\n",
       "        [-0.24319586, -0.12674186,  0.49229344],\n",
       "        [-1.53558374, -0.16171767,  0.07412935],\n",
       "        [-0.0500226 ,  0.30520511, -1.47931794],\n",
       "        [-1.90740575,  1.23019107,  0.4462165 ],\n",
       "        [ 0.57340978,  0.03383366,  1.75191876],\n",
       "        [ 0.11892934,  0.52980683, -0.18983145],\n",
       "        [ 0.4360838 , -0.01261669, -0.64391104],\n",
       "        [ 0.94548087,  1.02987947,  0.23546373],\n",
       "        [ 0.15871353,  0.83363592,  1.57352939],\n",
       "        [ 0.83076758, -0.15121648,  0.17426479],\n",
       "        [ 1.8102546 , -1.15402603, -0.12732859],\n",
       "        [-0.52939671, -2.32282374, -0.83517563],\n",
       "        [ 0.23419877,  1.71085943,  1.28331026],\n",
       "        [ 1.61625965,  1.71140066, -0.48352187],\n",
       "        [-0.81628947, -0.17086564, -0.74540708],\n",
       "        [ 1.21493745, -0.45560701,  0.23085156],\n",
       "        [ 0.80788298, -1.04172387,  0.60563921],\n",
       "        [-1.0105429 ,  1.77119554,  0.42200967],\n",
       "        [-0.15893666,  0.83661229,  0.04453723],\n",
       "        [ 1.6759394 ,  0.57999723, -0.21641417],\n",
       "        [ 0.95333853,  1.07749756,  0.72734005],\n",
       "        [ 0.16201582,  0.07886405,  0.18978509],\n",
       "        [-2.13257849, -0.21530099, -1.06638742],\n",
       "        [-0.43052232,  1.84259163, -0.010658  ],\n",
       "        [ 0.08126811, -1.04958455,  1.37514262],\n",
       "        [-1.17387193, -0.8804575 , -1.00057836],\n",
       "        [ 0.37600624, -0.68820601, -0.6845452 ],\n",
       "        [ 0.23373562, -1.6929139 , -1.69839019],\n",
       "        [-1.73383661, -0.19340464, -0.68776097],\n",
       "        [ 0.44690614,  0.55011655, -0.43497312]]),\n",
       " array([[-0.46226891, -0.06945233,  0.71960691, -0.72994861, -0.53523288,\n",
       "          0.90486274,  0.81930942,  0.40153685,  0.9459293 , -0.77722307,\n",
       "         -0.50619168, -0.17689917, -0.30899436,  0.6560178 , -1.00366092,\n",
       "          0.87846975, -0.69020084,  1.23613083,  0.4228757 ,  0.95290164,\n",
       "         -0.18810607,  0.6389292 , -1.52879074, -0.4612126 ,  1.09327717,\n",
       "          0.19252423,  0.34862556, -1.95585967, -0.13305785, -0.14268711,\n",
       "         -1.64812996,  0.56722033, -0.13169148, -0.30076068,  0.25724429,\n",
       "         -0.31279943, -0.61555806,  0.62205152,  1.24783581, -0.49626983],\n",
       "        [ 0.25438108,  0.81748315, -0.28566709,  0.83875376, -0.82420398,\n",
       "          0.05429793,  0.12381574, -0.29117414, -1.61421396,  1.75391522,\n",
       "         -0.30785264, -1.94137451, -0.84329958, -0.12220074,  0.69664906,\n",
       "         -1.0972321 , -0.38392574,  2.28373301,  1.81120644,  0.38107624,\n",
       "         -1.93299371, -0.0107552 , -0.71257546, -1.17811351,  0.85581006,\n",
       "         -1.2889637 , -1.42013272,  0.27669728, -0.83032989,  0.55807534,\n",
       "          0.68470834,  0.91627654,  0.08086061, -0.41757396,  0.77120027,\n",
       "          0.73706682, -0.21511443,  1.16159543, -0.65652123, -0.6555659 ],\n",
       "        [ 0.60509938,  0.07753116, -0.3061853 ,  0.44562056, -0.24763163,\n",
       "         -0.74518995, -1.01061013, -0.11686558, -1.04829905, -0.05416984,\n",
       "         -1.52764368,  1.19475802, -1.70543673, -1.76533528, -0.7416391 ,\n",
       "          0.4183452 ,  0.46487853,  1.12357805, -3.36791473,  0.09910919,\n",
       "          0.33705161,  1.27118577, -2.99944962,  1.24985073,  0.40724008,\n",
       "          0.58731267,  1.20641031, -0.60245718,  2.04888058, -1.22661739,\n",
       "          0.12091095,  0.45135974, -0.55648262,  0.38431519, -1.12727757,\n",
       "         -0.20407939,  1.46283357, -0.78759425, -0.12425356, -1.85481985],\n",
       "        [-0.17799515,  1.23512423, -2.57685173,  0.01295259, -0.05695921,\n",
       "         -1.39867317, -0.80288574, -1.20576563, -0.28477973,  0.20740162,\n",
       "          1.55971877, -0.1326634 , -0.98115969, -1.12159937, -0.12992423,\n",
       "         -0.20289299, -0.32338127,  0.58254366,  0.2269121 , -0.36295605,\n",
       "          1.4913144 , -0.69802813,  1.67053581,  1.13045029,  0.97714013,\n",
       "          0.82340072, -2.03587229, -2.15464184,  0.45790849, -0.63980944,\n",
       "         -0.91007526, -0.9413798 ,  0.08125961, -0.99801949,  1.05610749,\n",
       "         -0.13159102,  0.41584298, -0.11593434,  0.48491716, -0.3795537 ],\n",
       "        [ 1.27522102,  2.61048301,  0.53799274, -1.50813557,  1.69605535,\n",
       "         -0.28538251, -1.61512799, -1.16958528, -0.53057009, -0.23002386,\n",
       "          2.0199248 , -0.25876671, -0.84753237, -0.97901211, -0.88938059,\n",
       "         -0.15710192, -0.37931077,  0.71954791, -2.00097177, -1.69590216,\n",
       "          1.68795342,  0.88933785,  1.24170383, -0.60832713,  0.6536494 ,\n",
       "         -0.73143554,  0.01804745, -0.90241714,  0.69841039,  0.07612309,\n",
       "          1.06653718,  0.76171195,  1.34975596, -0.55935929,  1.2240043 ,\n",
       "          0.76954032, -0.41681869,  1.32583416,  1.11006154,  0.80614996]])]"
      ]
     },
     "execution_count": 25,
     "metadata": {},
     "output_type": "execute_result"
    }
   ],
   "source": [
    "net.weights"
   ]
  },
  {
   "cell_type": "code",
   "execution_count": 26,
   "metadata": {},
   "outputs": [
    {
     "name": "stdout",
     "output_type": "stream",
     "text": [
      "Epoch 0 : 309 / 500\n",
      "Epoch 1 : 362 / 500\n",
      "Epoch 2 : 391 / 500\n",
      "Epoch 3 : 425 / 500\n",
      "Epoch 4 : 461 / 500\n",
      "Epoch 5 : 463 / 500\n",
      "Epoch 6 : 465 / 500\n",
      "Epoch 7 : 453 / 500\n",
      "Epoch 8 : 462 / 500\n",
      "Epoch 9 : 463 / 500\n",
      "Epoch 10 : 470 / 500\n",
      "Epoch 11 : 474 / 500\n",
      "Epoch 12 : 471 / 500\n",
      "Epoch 13 : 474 / 500\n",
      "Epoch 14 : 472 / 500\n"
     ]
    }
   ],
   "source": [
    "net.SGD(training_data, 15, 50, 1.0, test_data)"
   ]
  },
  {
   "cell_type": "markdown",
   "metadata": {},
   "source": [
    "test with cross-entropy cost function"
   ]
  },
  {
   "cell_type": "code",
   "execution_count": 27,
   "metadata": {},
   "outputs": [],
   "source": [
    "import network2"
   ]
  },
  {
   "cell_type": "code",
   "execution_count": 28,
   "metadata": {},
   "outputs": [],
   "source": [
    "net2 = network2.Network([3, 40, 5], cost=network2.CrossEntropyCost)\n",
    "net2.large_weight_initializer()"
   ]
  },
  {
   "cell_type": "code",
   "execution_count": 54,
   "metadata": {},
   "outputs": [],
   "source": [
    "training_input = [np.reshape(x, (3,1)) for x in Llist]\n",
    "training_results = [vectorised_results(int(y)) for y in types]\n",
    "training_data_in = zip(training_input, training_results)\n",
    "\n",
    "samplesize_test = 500\n",
    "\n",
    "Ltestlist = np.random.sample((samplesize_test, 3)) *2 - 1\n",
    "types_test = L_class(Ltestlist, samplesize_test)\n",
    "\n",
    "test_input = [np.reshape(x, (3,1)) for x in Ltestlist]\n",
    "test_data_in = zip(test_input, types_test)"
   ]
  },
  {
   "cell_type": "code",
   "execution_count": 55,
   "metadata": {},
   "outputs": [
    {
     "name": "stdout",
     "output_type": "stream",
     "text": [
      "Epoch 0 training complete\n",
      "Accuracy on training data: 9337 / 10000\n",
      "Accuracy on evaluation data: 477 / 500\n",
      "Epoch 1 training complete\n",
      "Accuracy on training data: 9440 / 10000\n",
      "Accuracy on evaluation data: 481 / 500\n",
      "Epoch 2 training complete\n",
      "Accuracy on training data: 9427 / 10000\n",
      "Accuracy on evaluation data: 481 / 500\n",
      "Epoch 3 training complete\n",
      "Accuracy on training data: 9450 / 10000\n",
      "Accuracy on evaluation data: 481 / 500\n",
      "Epoch 4 training complete\n",
      "Accuracy on training data: 9432 / 10000\n",
      "Accuracy on evaluation data: 478 / 500\n",
      "Epoch 5 training complete\n",
      "Accuracy on training data: 9381 / 10000\n",
      "Accuracy on evaluation data: 479 / 500\n",
      "Epoch 6 training complete\n",
      "Accuracy on training data: 9413 / 10000\n",
      "Accuracy on evaluation data: 480 / 500\n",
      "Epoch 7 training complete\n",
      "Accuracy on training data: 9458 / 10000\n",
      "Accuracy on evaluation data: 481 / 500\n",
      "Epoch 8 training complete\n",
      "Accuracy on training data: 9452 / 10000\n",
      "Accuracy on evaluation data: 479 / 500\n",
      "Epoch 9 training complete\n",
      "Accuracy on training data: 9420 / 10000\n",
      "Accuracy on evaluation data: 477 / 500\n",
      "Epoch 10 training complete\n",
      "Accuracy on training data: 9424 / 10000\n",
      "Accuracy on evaluation data: 479 / 500\n",
      "Epoch 11 training complete\n",
      "Accuracy on training data: 9469 / 10000\n",
      "Accuracy on evaluation data: 481 / 500\n",
      "Epoch 12 training complete\n",
      "Accuracy on training data: 9446 / 10000\n",
      "Accuracy on evaluation data: 481 / 500\n",
      "Epoch 13 training complete\n",
      "Accuracy on training data: 9448 / 10000\n",
      "Accuracy on evaluation data: 480 / 500\n",
      "Epoch 14 training complete\n",
      "Accuracy on training data: 9363 / 10000\n",
      "Accuracy on evaluation data: 476 / 500\n"
     ]
    }
   ],
   "source": [
    "test1, test_acc, test2, training_acc = net2.SGD(training_data=training_data_in, \n",
    "         epochs=15, \n",
    "         mini_batch_size=50, \n",
    "         eta=0.2, \n",
    "         lmbda=0.0, \n",
    "         evaluation_data=test_data_in,\n",
    "         monitor_evaluation_accuracy=True,\n",
    "         monitor_training_accuracy=True)"
   ]
  },
  {
   "cell_type": "code",
   "execution_count": 62,
   "metadata": {},
   "outputs": [
    {
     "data": {
      "text/plain": [
       "[<matplotlib.lines.Line2D at 0x7fa56e1ead40>]"
      ]
     },
     "execution_count": 62,
     "metadata": {},
     "output_type": "execute_result"
    },
    {
     "data": {
      "image/png": "[encoded data removed]",
      "text/plain": [
       "<Figure size 640x480 with 1 Axes>"
      ]
     },
     "metadata": {},
     "output_type": "display_data"
    }
   ],
   "source": [
    "plt.plot([i for i in range(15)], np.array(test_acc)/500)\n",
    "plt.plot([i for i in range(15)], np.array(training_acc)/10000)"
   ]
  },
  {
   "cell_type": "code",
   "execution_count": null,
   "metadata": {},
   "outputs": [],
   "source": []
  }
 ],
 "metadata": {
  "kernelspec": {
   "display_name": "notebook",
   "language": "python",
   "name": "python3"
  },
  "language_info": {
   "codemirror_mode": {
    "name": "ipython",
    "version": 3
   },
   "file_extension": ".py",
   "mimetype": "text/x-python",
   "name": "python",
   "nbconvert_exporter": "python",
   "pygments_lexer": "ipython3",
   "version": "3.10.12"
  },
  "orig_nbformat": 4
 },
 "nbformat": 4,
 "nbformat_minor": 2
}
